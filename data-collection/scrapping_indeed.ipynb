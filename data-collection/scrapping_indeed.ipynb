{
  "nbformat": 4,
  "nbformat_minor": 0,
  "metadata": {
    "colab": {
      "provenance": []
    },
    "kernelspec": {
      "name": "python3",
      "display_name": "Python 3"
    },
    "language_info": {
      "name": "python"
    }
  },
  "cells": [
    {
      "cell_type": "code",
      "execution_count": 1,
      "metadata": {
        "id": "8hIIY7Nehw3N"
      },
      "outputs": [],
      "source": [
        "import sys\n",
        "import requests as rq\n",
        "from bs4 import BeautifulSoup as bs\n",
        "from time import sleep\n",
        "from time import time\n",
        "from random import randint\n",
        "from warnings import warn\n",
        "import json\n",
        "import pandas as pd"
      ]
    },
    {
      "cell_type": "markdown",
      "source": [
        "Most websites do not leave job postings for more than 2-5 months hence getting job posting of previous years from the jobsites directly is impossible. \n",
        "\n",
        "To get old job postings, I'm extracting data from a web archive called [the wayback machine](https://archive.org/web/). The drawback to this is that the links are not clickable hence being able to extract the job posting descriptions might be difficult."
      ],
      "metadata": {
        "id": "J0z1P6WcliHx"
      }
    },
    {
      "cell_type": "markdown",
      "source": [
        "# Scraping Indeed job site "
      ],
      "metadata": {
        "id": "q1fHZ7zVrK8N"
      }
    },
    {
      "cell_type": "code",
      "source": [
        "roles = [\n",
        "    'Marketing Technologist',\n",
        "    'SEO Consultant',\n",
        "    'Web analytics Developer',\n",
        "    'Digital Marketing Manager',\n",
        "    'Social media manager',\n",
        "    'Content Manager',\n",
        "    'Information Architect',\n",
        "    'UX designer',\n",
        "    'UI Designer',\n",
        "    'Front end designer',\n",
        "    'Front end developer',\n",
        "    'Mobile Developer',\n",
        "    'Full stack developer',\n",
        "    'Software Developer',\n",
        "    'WordPress Developer',\n",
        "    'Python Developer',\n",
        "    'Systems Engineer',\n",
        "    'Data Architect',\n",
        "    'Database Administrator',\n",
        "    'Data Analyst', \n",
        "    'Data scientist',\n",
        "    'Cloud Architect',\n",
        "    'DevOps Manager',\n",
        "    'Agile project manager',\n",
        "    'Product Manager',\n",
        "    'Security specialist',\n",
        "    'QA (Quality Assurance) specialist',\n",
        "    'Game developer',\n",
        "    'Computer Graphics animator',\n",
        "    'Information security analyst',\n",
        "    'Network and system administrator',\n",
        "    'Product owner'\n",
        "\n",
        "]"
      ],
      "metadata": {
        "id": "qJhojZyvrRL-"
      },
      "execution_count": 2,
      "outputs": []
    },
    {
      "cell_type": "code",
      "source": [
        "def check_availability(link):\n",
        "  url = f'http://archive.org/wayback/available?url={link}'\n",
        "  urls = rq.get(url).text\n",
        "  parse_url = json.loads(urls)  \n",
        "  return parse_url"
      ],
      "metadata": {
        "id": "X7LqF8SsZ6Nm"
      },
      "execution_count": 10,
      "outputs": []
    },
    {
      "cell_type": "code",
      "source": [
        "check_availability('www.indeed.com/jobs?q=data+scientist')"
      ],
      "metadata": {
        "colab": {
          "base_uri": "https://localhost:8080/"
        },
        "id": "yRBOdkEcbM3x",
        "outputId": "2958e639-77b8-4154-d878-fbabdcc1e793"
      },
      "execution_count": 11,
      "outputs": [
        {
          "output_type": "execute_result",
          "data": {
            "text/plain": [
              "{'url': 'www.indeed.com/jobs?q=data scientist',\n",
              " 'archived_snapshots': {'closest': {'status': '200',\n",
              "   'available': True,\n",
              "   'url': 'http://web.archive.org/web/20201112020605/https://www.indeed.com/jobs?q=data%20scientist',\n",
              "   'timestamp': '20201112020605'}}}"
            ]
          },
          "metadata": {},
          "execution_count": 11
        }
      ]
    },
    {
      "cell_type": "code",
      "source": [
        "url = f'http://web.archive.org/cdx/search/cdx?url=www.indeed.com/jobs?q=data+scientist&amp;explvl=entry_level&from=20130101&to=20230215&output=json'\n",
        "urls = rq.get(url).text\n",
        "parse_url = json.loads(urls)"
      ],
      "metadata": {
        "id": "WrTifm1QYeWI",
        "colab": {
          "base_uri": "https://localhost:8080/",
          "height": 389
        },
        "outputId": "ba48b380-30e6-4822-b914-0e8bb4213347"
      },
      "execution_count": 14,
      "outputs": [
        {
          "output_type": "error",
          "ename": "KeyboardInterrupt",
          "evalue": "ignored",
          "traceback": [
            "\u001b[0;31m---------------------------------------------------------------------------\u001b[0m",
            "\u001b[0;31mKeyboardInterrupt\u001b[0m                         Traceback (most recent call last)",
            "\u001b[0;32m<ipython-input-14-32a983d01e6d>\u001b[0m in \u001b[0;36m<module>\u001b[0;34m\u001b[0m\n\u001b[1;32m      1\u001b[0m \u001b[0murl\u001b[0m \u001b[0;34m=\u001b[0m \u001b[0;34mf'http://web.archive.org/cdx/search/cdx?url=www.indeed.com/jobs?q=data+scientist&amp;explvl=entry_level&from=20130101&to=20230215&output=json'\u001b[0m\u001b[0;34m\u001b[0m\u001b[0;34m\u001b[0m\u001b[0m\n\u001b[0;32m----> 2\u001b[0;31m \u001b[0murls\u001b[0m \u001b[0;34m=\u001b[0m \u001b[0mrq\u001b[0m\u001b[0;34m.\u001b[0m\u001b[0mget\u001b[0m\u001b[0;34m(\u001b[0m\u001b[0murl\u001b[0m\u001b[0;34m)\u001b[0m\u001b[0;34m.\u001b[0m\u001b[0mtext\u001b[0m\u001b[0;34m\u001b[0m\u001b[0;34m\u001b[0m\u001b[0m\n\u001b[0m\u001b[1;32m      3\u001b[0m \u001b[0mparse_url\u001b[0m \u001b[0;34m=\u001b[0m \u001b[0mjson\u001b[0m\u001b[0;34m.\u001b[0m\u001b[0mloads\u001b[0m\u001b[0;34m(\u001b[0m\u001b[0murls\u001b[0m\u001b[0;34m)\u001b[0m\u001b[0;34m\u001b[0m\u001b[0;34m\u001b[0m\u001b[0m\n",
            "\u001b[0;32m/usr/local/lib/python3.8/dist-packages/requests/api.py\u001b[0m in \u001b[0;36mget\u001b[0;34m(url, params, **kwargs)\u001b[0m\n\u001b[1;32m     74\u001b[0m \u001b[0;34m\u001b[0m\u001b[0m\n\u001b[1;32m     75\u001b[0m     \u001b[0mkwargs\u001b[0m\u001b[0;34m.\u001b[0m\u001b[0msetdefault\u001b[0m\u001b[0;34m(\u001b[0m\u001b[0;34m'allow_redirects'\u001b[0m\u001b[0;34m,\u001b[0m \u001b[0;32mTrue\u001b[0m\u001b[0;34m)\u001b[0m\u001b[0;34m\u001b[0m\u001b[0;34m\u001b[0m\u001b[0m\n\u001b[0;32m---> 76\u001b[0;31m     \u001b[0;32mreturn\u001b[0m \u001b[0mrequest\u001b[0m\u001b[0;34m(\u001b[0m\u001b[0;34m'get'\u001b[0m\u001b[0;34m,\u001b[0m \u001b[0murl\u001b[0m\u001b[0;34m,\u001b[0m \u001b[0mparams\u001b[0m\u001b[0;34m=\u001b[0m\u001b[0mparams\u001b[0m\u001b[0;34m,\u001b[0m \u001b[0;34m**\u001b[0m\u001b[0mkwargs\u001b[0m\u001b[0;34m)\u001b[0m\u001b[0;34m\u001b[0m\u001b[0;34m\u001b[0m\u001b[0m\n\u001b[0m\u001b[1;32m     77\u001b[0m \u001b[0;34m\u001b[0m\u001b[0m\n\u001b[1;32m     78\u001b[0m \u001b[0;34m\u001b[0m\u001b[0m\n",
            "\u001b[0;32m/usr/local/lib/python3.8/dist-packages/requests/api.py\u001b[0m in \u001b[0;36mrequest\u001b[0;34m(method, url, **kwargs)\u001b[0m\n\u001b[1;32m     59\u001b[0m     \u001b[0;31m# cases, and look like a memory leak in others.\u001b[0m\u001b[0;34m\u001b[0m\u001b[0;34m\u001b[0m\u001b[0;34m\u001b[0m\u001b[0m\n\u001b[1;32m     60\u001b[0m     \u001b[0;32mwith\u001b[0m \u001b[0msessions\u001b[0m\u001b[0;34m.\u001b[0m\u001b[0mSession\u001b[0m\u001b[0;34m(\u001b[0m\u001b[0;34m)\u001b[0m \u001b[0;32mas\u001b[0m \u001b[0msession\u001b[0m\u001b[0;34m:\u001b[0m\u001b[0;34m\u001b[0m\u001b[0;34m\u001b[0m\u001b[0m\n\u001b[0;32m---> 61\u001b[0;31m         \u001b[0;32mreturn\u001b[0m \u001b[0msession\u001b[0m\u001b[0;34m.\u001b[0m\u001b[0mrequest\u001b[0m\u001b[0;34m(\u001b[0m\u001b[0mmethod\u001b[0m\u001b[0;34m=\u001b[0m\u001b[0mmethod\u001b[0m\u001b[0;34m,\u001b[0m \u001b[0murl\u001b[0m\u001b[0;34m=\u001b[0m\u001b[0murl\u001b[0m\u001b[0;34m,\u001b[0m \u001b[0;34m**\u001b[0m\u001b[0mkwargs\u001b[0m\u001b[0;34m)\u001b[0m\u001b[0;34m\u001b[0m\u001b[0;34m\u001b[0m\u001b[0m\n\u001b[0m\u001b[1;32m     62\u001b[0m \u001b[0;34m\u001b[0m\u001b[0m\n\u001b[1;32m     63\u001b[0m \u001b[0;34m\u001b[0m\u001b[0m\n",
            "\u001b[0;32m/usr/local/lib/python3.8/dist-packages/requests/sessions.py\u001b[0m in \u001b[0;36mrequest\u001b[0;34m(self, method, url, params, data, headers, cookies, files, auth, timeout, allow_redirects, proxies, hooks, stream, verify, cert, json)\u001b[0m\n\u001b[1;32m    540\u001b[0m         }\n\u001b[1;32m    541\u001b[0m         \u001b[0msend_kwargs\u001b[0m\u001b[0;34m.\u001b[0m\u001b[0mupdate\u001b[0m\u001b[0;34m(\u001b[0m\u001b[0msettings\u001b[0m\u001b[0;34m)\u001b[0m\u001b[0;34m\u001b[0m\u001b[0;34m\u001b[0m\u001b[0m\n\u001b[0;32m--> 542\u001b[0;31m         \u001b[0mresp\u001b[0m \u001b[0;34m=\u001b[0m \u001b[0mself\u001b[0m\u001b[0;34m.\u001b[0m\u001b[0msend\u001b[0m\u001b[0;34m(\u001b[0m\u001b[0mprep\u001b[0m\u001b[0;34m,\u001b[0m \u001b[0;34m**\u001b[0m\u001b[0msend_kwargs\u001b[0m\u001b[0;34m)\u001b[0m\u001b[0;34m\u001b[0m\u001b[0;34m\u001b[0m\u001b[0m\n\u001b[0m\u001b[1;32m    543\u001b[0m \u001b[0;34m\u001b[0m\u001b[0m\n\u001b[1;32m    544\u001b[0m         \u001b[0;32mreturn\u001b[0m \u001b[0mresp\u001b[0m\u001b[0;34m\u001b[0m\u001b[0;34m\u001b[0m\u001b[0m\n",
            "\u001b[0;32m/usr/local/lib/python3.8/dist-packages/requests/sessions.py\u001b[0m in \u001b[0;36msend\u001b[0;34m(self, request, **kwargs)\u001b[0m\n\u001b[1;32m    653\u001b[0m \u001b[0;34m\u001b[0m\u001b[0m\n\u001b[1;32m    654\u001b[0m         \u001b[0;31m# Send the request\u001b[0m\u001b[0;34m\u001b[0m\u001b[0;34m\u001b[0m\u001b[0;34m\u001b[0m\u001b[0m\n\u001b[0;32m--> 655\u001b[0;31m         \u001b[0mr\u001b[0m \u001b[0;34m=\u001b[0m \u001b[0madapter\u001b[0m\u001b[0;34m.\u001b[0m\u001b[0msend\u001b[0m\u001b[0;34m(\u001b[0m\u001b[0mrequest\u001b[0m\u001b[0;34m,\u001b[0m \u001b[0;34m**\u001b[0m\u001b[0mkwargs\u001b[0m\u001b[0;34m)\u001b[0m\u001b[0;34m\u001b[0m\u001b[0;34m\u001b[0m\u001b[0m\n\u001b[0m\u001b[1;32m    656\u001b[0m \u001b[0;34m\u001b[0m\u001b[0m\n\u001b[1;32m    657\u001b[0m         \u001b[0;31m# Total elapsed time of the request (approximately)\u001b[0m\u001b[0;34m\u001b[0m\u001b[0;34m\u001b[0m\u001b[0;34m\u001b[0m\u001b[0m\n",
            "\u001b[0;32m/usr/local/lib/python3.8/dist-packages/requests/adapters.py\u001b[0m in \u001b[0;36msend\u001b[0;34m(self, request, stream, timeout, verify, cert, proxies)\u001b[0m\n\u001b[1;32m    437\u001b[0m         \u001b[0;32mtry\u001b[0m\u001b[0;34m:\u001b[0m\u001b[0;34m\u001b[0m\u001b[0;34m\u001b[0m\u001b[0m\n\u001b[1;32m    438\u001b[0m             \u001b[0;32mif\u001b[0m \u001b[0;32mnot\u001b[0m \u001b[0mchunked\u001b[0m\u001b[0;34m:\u001b[0m\u001b[0;34m\u001b[0m\u001b[0;34m\u001b[0m\u001b[0m\n\u001b[0;32m--> 439\u001b[0;31m                 resp = conn.urlopen(\n\u001b[0m\u001b[1;32m    440\u001b[0m                     \u001b[0mmethod\u001b[0m\u001b[0;34m=\u001b[0m\u001b[0mrequest\u001b[0m\u001b[0;34m.\u001b[0m\u001b[0mmethod\u001b[0m\u001b[0;34m,\u001b[0m\u001b[0;34m\u001b[0m\u001b[0;34m\u001b[0m\u001b[0m\n\u001b[1;32m    441\u001b[0m                     \u001b[0murl\u001b[0m\u001b[0;34m=\u001b[0m\u001b[0murl\u001b[0m\u001b[0;34m,\u001b[0m\u001b[0;34m\u001b[0m\u001b[0;34m\u001b[0m\u001b[0m\n",
            "\u001b[0;32m/usr/local/lib/python3.8/dist-packages/urllib3/connectionpool.py\u001b[0m in \u001b[0;36murlopen\u001b[0;34m(self, method, url, body, headers, retries, redirect, assert_same_host, timeout, pool_timeout, release_conn, chunked, body_pos, **response_kw)\u001b[0m\n\u001b[1;32m    595\u001b[0m \u001b[0;34m\u001b[0m\u001b[0m\n\u001b[1;32m    596\u001b[0m             \u001b[0;31m# Make the request on the httplib connection object.\u001b[0m\u001b[0;34m\u001b[0m\u001b[0;34m\u001b[0m\u001b[0;34m\u001b[0m\u001b[0m\n\u001b[0;32m--> 597\u001b[0;31m             httplib_response = self._make_request(conn, method, url,\n\u001b[0m\u001b[1;32m    598\u001b[0m                                                   \u001b[0mtimeout\u001b[0m\u001b[0;34m=\u001b[0m\u001b[0mtimeout_obj\u001b[0m\u001b[0;34m,\u001b[0m\u001b[0;34m\u001b[0m\u001b[0;34m\u001b[0m\u001b[0m\n\u001b[1;32m    599\u001b[0m                                                   \u001b[0mbody\u001b[0m\u001b[0;34m=\u001b[0m\u001b[0mbody\u001b[0m\u001b[0;34m,\u001b[0m \u001b[0mheaders\u001b[0m\u001b[0;34m=\u001b[0m\u001b[0mheaders\u001b[0m\u001b[0;34m,\u001b[0m\u001b[0;34m\u001b[0m\u001b[0;34m\u001b[0m\u001b[0m\n",
            "\u001b[0;32m/usr/local/lib/python3.8/dist-packages/urllib3/connectionpool.py\u001b[0m in \u001b[0;36m_make_request\u001b[0;34m(self, conn, method, url, timeout, chunked, **httplib_request_kw)\u001b[0m\n\u001b[1;32m    352\u001b[0m             \u001b[0mconn\u001b[0m\u001b[0;34m.\u001b[0m\u001b[0mrequest_chunked\u001b[0m\u001b[0;34m(\u001b[0m\u001b[0mmethod\u001b[0m\u001b[0;34m,\u001b[0m \u001b[0murl\u001b[0m\u001b[0;34m,\u001b[0m \u001b[0;34m**\u001b[0m\u001b[0mhttplib_request_kw\u001b[0m\u001b[0;34m)\u001b[0m\u001b[0;34m\u001b[0m\u001b[0;34m\u001b[0m\u001b[0m\n\u001b[1;32m    353\u001b[0m         \u001b[0;32melse\u001b[0m\u001b[0;34m:\u001b[0m\u001b[0;34m\u001b[0m\u001b[0;34m\u001b[0m\u001b[0m\n\u001b[0;32m--> 354\u001b[0;31m             \u001b[0mconn\u001b[0m\u001b[0;34m.\u001b[0m\u001b[0mrequest\u001b[0m\u001b[0;34m(\u001b[0m\u001b[0mmethod\u001b[0m\u001b[0;34m,\u001b[0m \u001b[0murl\u001b[0m\u001b[0;34m,\u001b[0m \u001b[0;34m**\u001b[0m\u001b[0mhttplib_request_kw\u001b[0m\u001b[0;34m)\u001b[0m\u001b[0;34m\u001b[0m\u001b[0;34m\u001b[0m\u001b[0m\n\u001b[0m\u001b[1;32m    355\u001b[0m \u001b[0;34m\u001b[0m\u001b[0m\n\u001b[1;32m    356\u001b[0m         \u001b[0;31m# Reset the timeout for the recv() on the socket\u001b[0m\u001b[0;34m\u001b[0m\u001b[0;34m\u001b[0m\u001b[0;34m\u001b[0m\u001b[0m\n",
            "\u001b[0;32m/usr/lib/python3.8/http/client.py\u001b[0m in \u001b[0;36mrequest\u001b[0;34m(self, method, url, body, headers, encode_chunked)\u001b[0m\n\u001b[1;32m   1254\u001b[0m                 encode_chunked=False):\n\u001b[1;32m   1255\u001b[0m         \u001b[0;34m\"\"\"Send a complete request to the server.\"\"\"\u001b[0m\u001b[0;34m\u001b[0m\u001b[0;34m\u001b[0m\u001b[0m\n\u001b[0;32m-> 1256\u001b[0;31m         \u001b[0mself\u001b[0m\u001b[0;34m.\u001b[0m\u001b[0m_send_request\u001b[0m\u001b[0;34m(\u001b[0m\u001b[0mmethod\u001b[0m\u001b[0;34m,\u001b[0m \u001b[0murl\u001b[0m\u001b[0;34m,\u001b[0m \u001b[0mbody\u001b[0m\u001b[0;34m,\u001b[0m \u001b[0mheaders\u001b[0m\u001b[0;34m,\u001b[0m \u001b[0mencode_chunked\u001b[0m\u001b[0;34m)\u001b[0m\u001b[0;34m\u001b[0m\u001b[0;34m\u001b[0m\u001b[0m\n\u001b[0m\u001b[1;32m   1257\u001b[0m \u001b[0;34m\u001b[0m\u001b[0m\n\u001b[1;32m   1258\u001b[0m     \u001b[0;32mdef\u001b[0m \u001b[0m_send_request\u001b[0m\u001b[0;34m(\u001b[0m\u001b[0mself\u001b[0m\u001b[0;34m,\u001b[0m \u001b[0mmethod\u001b[0m\u001b[0;34m,\u001b[0m \u001b[0murl\u001b[0m\u001b[0;34m,\u001b[0m \u001b[0mbody\u001b[0m\u001b[0;34m,\u001b[0m \u001b[0mheaders\u001b[0m\u001b[0;34m,\u001b[0m \u001b[0mencode_chunked\u001b[0m\u001b[0;34m)\u001b[0m\u001b[0;34m:\u001b[0m\u001b[0;34m\u001b[0m\u001b[0;34m\u001b[0m\u001b[0m\n",
            "\u001b[0;32m/usr/lib/python3.8/http/client.py\u001b[0m in \u001b[0;36m_send_request\u001b[0;34m(self, method, url, body, headers, encode_chunked)\u001b[0m\n\u001b[1;32m   1300\u001b[0m             \u001b[0;31m# default charset of iso-8859-1.\u001b[0m\u001b[0;34m\u001b[0m\u001b[0;34m\u001b[0m\u001b[0;34m\u001b[0m\u001b[0m\n\u001b[1;32m   1301\u001b[0m             \u001b[0mbody\u001b[0m \u001b[0;34m=\u001b[0m \u001b[0m_encode\u001b[0m\u001b[0;34m(\u001b[0m\u001b[0mbody\u001b[0m\u001b[0;34m,\u001b[0m \u001b[0;34m'body'\u001b[0m\u001b[0;34m)\u001b[0m\u001b[0;34m\u001b[0m\u001b[0;34m\u001b[0m\u001b[0m\n\u001b[0;32m-> 1302\u001b[0;31m         \u001b[0mself\u001b[0m\u001b[0;34m.\u001b[0m\u001b[0mendheaders\u001b[0m\u001b[0;34m(\u001b[0m\u001b[0mbody\u001b[0m\u001b[0;34m,\u001b[0m \u001b[0mencode_chunked\u001b[0m\u001b[0;34m=\u001b[0m\u001b[0mencode_chunked\u001b[0m\u001b[0;34m)\u001b[0m\u001b[0;34m\u001b[0m\u001b[0;34m\u001b[0m\u001b[0m\n\u001b[0m\u001b[1;32m   1303\u001b[0m \u001b[0;34m\u001b[0m\u001b[0m\n\u001b[1;32m   1304\u001b[0m     \u001b[0;32mdef\u001b[0m \u001b[0mgetresponse\u001b[0m\u001b[0;34m(\u001b[0m\u001b[0mself\u001b[0m\u001b[0;34m)\u001b[0m\u001b[0;34m:\u001b[0m\u001b[0;34m\u001b[0m\u001b[0;34m\u001b[0m\u001b[0m\n",
            "\u001b[0;32m/usr/lib/python3.8/http/client.py\u001b[0m in \u001b[0;36mendheaders\u001b[0;34m(self, message_body, encode_chunked)\u001b[0m\n\u001b[1;32m   1249\u001b[0m         \u001b[0;32melse\u001b[0m\u001b[0;34m:\u001b[0m\u001b[0;34m\u001b[0m\u001b[0;34m\u001b[0m\u001b[0m\n\u001b[1;32m   1250\u001b[0m             \u001b[0;32mraise\u001b[0m \u001b[0mCannotSendHeader\u001b[0m\u001b[0;34m(\u001b[0m\u001b[0;34m)\u001b[0m\u001b[0;34m\u001b[0m\u001b[0;34m\u001b[0m\u001b[0m\n\u001b[0;32m-> 1251\u001b[0;31m         \u001b[0mself\u001b[0m\u001b[0;34m.\u001b[0m\u001b[0m_send_output\u001b[0m\u001b[0;34m(\u001b[0m\u001b[0mmessage_body\u001b[0m\u001b[0;34m,\u001b[0m \u001b[0mencode_chunked\u001b[0m\u001b[0;34m=\u001b[0m\u001b[0mencode_chunked\u001b[0m\u001b[0;34m)\u001b[0m\u001b[0;34m\u001b[0m\u001b[0;34m\u001b[0m\u001b[0m\n\u001b[0m\u001b[1;32m   1252\u001b[0m \u001b[0;34m\u001b[0m\u001b[0m\n\u001b[1;32m   1253\u001b[0m     def request(self, method, url, body=None, headers={}, *,\n",
            "\u001b[0;32m/usr/lib/python3.8/http/client.py\u001b[0m in \u001b[0;36m_send_output\u001b[0;34m(self, message_body, encode_chunked)\u001b[0m\n\u001b[1;32m   1009\u001b[0m         \u001b[0mmsg\u001b[0m \u001b[0;34m=\u001b[0m \u001b[0;34mb\"\\r\\n\"\u001b[0m\u001b[0;34m.\u001b[0m\u001b[0mjoin\u001b[0m\u001b[0;34m(\u001b[0m\u001b[0mself\u001b[0m\u001b[0;34m.\u001b[0m\u001b[0m_buffer\u001b[0m\u001b[0;34m)\u001b[0m\u001b[0;34m\u001b[0m\u001b[0;34m\u001b[0m\u001b[0m\n\u001b[1;32m   1010\u001b[0m         \u001b[0;32mdel\u001b[0m \u001b[0mself\u001b[0m\u001b[0;34m.\u001b[0m\u001b[0m_buffer\u001b[0m\u001b[0;34m[\u001b[0m\u001b[0;34m:\u001b[0m\u001b[0;34m]\u001b[0m\u001b[0;34m\u001b[0m\u001b[0;34m\u001b[0m\u001b[0m\n\u001b[0;32m-> 1011\u001b[0;31m         \u001b[0mself\u001b[0m\u001b[0;34m.\u001b[0m\u001b[0msend\u001b[0m\u001b[0;34m(\u001b[0m\u001b[0mmsg\u001b[0m\u001b[0;34m)\u001b[0m\u001b[0;34m\u001b[0m\u001b[0;34m\u001b[0m\u001b[0m\n\u001b[0m\u001b[1;32m   1012\u001b[0m \u001b[0;34m\u001b[0m\u001b[0m\n\u001b[1;32m   1013\u001b[0m         \u001b[0;32mif\u001b[0m \u001b[0mmessage_body\u001b[0m \u001b[0;32mis\u001b[0m \u001b[0;32mnot\u001b[0m \u001b[0;32mNone\u001b[0m\u001b[0;34m:\u001b[0m\u001b[0;34m\u001b[0m\u001b[0;34m\u001b[0m\u001b[0m\n",
            "\u001b[0;32m/usr/lib/python3.8/http/client.py\u001b[0m in \u001b[0;36msend\u001b[0;34m(self, data)\u001b[0m\n\u001b[1;32m    949\u001b[0m         \u001b[0;32mif\u001b[0m \u001b[0mself\u001b[0m\u001b[0;34m.\u001b[0m\u001b[0msock\u001b[0m \u001b[0;32mis\u001b[0m \u001b[0;32mNone\u001b[0m\u001b[0;34m:\u001b[0m\u001b[0;34m\u001b[0m\u001b[0;34m\u001b[0m\u001b[0m\n\u001b[1;32m    950\u001b[0m             \u001b[0;32mif\u001b[0m \u001b[0mself\u001b[0m\u001b[0;34m.\u001b[0m\u001b[0mauto_open\u001b[0m\u001b[0;34m:\u001b[0m\u001b[0;34m\u001b[0m\u001b[0;34m\u001b[0m\u001b[0m\n\u001b[0;32m--> 951\u001b[0;31m                 \u001b[0mself\u001b[0m\u001b[0;34m.\u001b[0m\u001b[0mconnect\u001b[0m\u001b[0;34m(\u001b[0m\u001b[0;34m)\u001b[0m\u001b[0;34m\u001b[0m\u001b[0;34m\u001b[0m\u001b[0m\n\u001b[0m\u001b[1;32m    952\u001b[0m             \u001b[0;32melse\u001b[0m\u001b[0;34m:\u001b[0m\u001b[0;34m\u001b[0m\u001b[0;34m\u001b[0m\u001b[0m\n\u001b[1;32m    953\u001b[0m                 \u001b[0;32mraise\u001b[0m \u001b[0mNotConnected\u001b[0m\u001b[0;34m(\u001b[0m\u001b[0;34m)\u001b[0m\u001b[0;34m\u001b[0m\u001b[0;34m\u001b[0m\u001b[0m\n",
            "\u001b[0;32m/usr/local/lib/python3.8/dist-packages/urllib3/connection.py\u001b[0m in \u001b[0;36mconnect\u001b[0;34m(self)\u001b[0m\n\u001b[1;32m    179\u001b[0m \u001b[0;34m\u001b[0m\u001b[0m\n\u001b[1;32m    180\u001b[0m     \u001b[0;32mdef\u001b[0m \u001b[0mconnect\u001b[0m\u001b[0;34m(\u001b[0m\u001b[0mself\u001b[0m\u001b[0;34m)\u001b[0m\u001b[0;34m:\u001b[0m\u001b[0;34m\u001b[0m\u001b[0;34m\u001b[0m\u001b[0m\n\u001b[0;32m--> 181\u001b[0;31m         \u001b[0mconn\u001b[0m \u001b[0;34m=\u001b[0m \u001b[0mself\u001b[0m\u001b[0;34m.\u001b[0m\u001b[0m_new_conn\u001b[0m\u001b[0;34m(\u001b[0m\u001b[0;34m)\u001b[0m\u001b[0;34m\u001b[0m\u001b[0;34m\u001b[0m\u001b[0m\n\u001b[0m\u001b[1;32m    182\u001b[0m         \u001b[0mself\u001b[0m\u001b[0;34m.\u001b[0m\u001b[0m_prepare_conn\u001b[0m\u001b[0;34m(\u001b[0m\u001b[0mconn\u001b[0m\u001b[0;34m)\u001b[0m\u001b[0;34m\u001b[0m\u001b[0;34m\u001b[0m\u001b[0m\n\u001b[1;32m    183\u001b[0m \u001b[0;34m\u001b[0m\u001b[0m\n",
            "\u001b[0;32m/usr/local/lib/python3.8/dist-packages/urllib3/connection.py\u001b[0m in \u001b[0;36m_new_conn\u001b[0;34m(self)\u001b[0m\n\u001b[1;32m    156\u001b[0m \u001b[0;34m\u001b[0m\u001b[0m\n\u001b[1;32m    157\u001b[0m         \u001b[0;32mtry\u001b[0m\u001b[0;34m:\u001b[0m\u001b[0;34m\u001b[0m\u001b[0;34m\u001b[0m\u001b[0m\n\u001b[0;32m--> 158\u001b[0;31m             conn = connection.create_connection(\n\u001b[0m\u001b[1;32m    159\u001b[0m                 (self._dns_host, self.port), self.timeout, **extra_kw)\n\u001b[1;32m    160\u001b[0m \u001b[0;34m\u001b[0m\u001b[0m\n",
            "\u001b[0;32m/usr/local/lib/python3.8/dist-packages/urllib3/util/connection.py\u001b[0m in \u001b[0;36mcreate_connection\u001b[0;34m(address, timeout, source_address, socket_options)\u001b[0m\n\u001b[1;32m     68\u001b[0m             \u001b[0;32mif\u001b[0m \u001b[0msource_address\u001b[0m\u001b[0;34m:\u001b[0m\u001b[0;34m\u001b[0m\u001b[0;34m\u001b[0m\u001b[0m\n\u001b[1;32m     69\u001b[0m                 \u001b[0msock\u001b[0m\u001b[0;34m.\u001b[0m\u001b[0mbind\u001b[0m\u001b[0;34m(\u001b[0m\u001b[0msource_address\u001b[0m\u001b[0;34m)\u001b[0m\u001b[0;34m\u001b[0m\u001b[0;34m\u001b[0m\u001b[0m\n\u001b[0;32m---> 70\u001b[0;31m             \u001b[0msock\u001b[0m\u001b[0;34m.\u001b[0m\u001b[0mconnect\u001b[0m\u001b[0;34m(\u001b[0m\u001b[0msa\u001b[0m\u001b[0;34m)\u001b[0m\u001b[0;34m\u001b[0m\u001b[0;34m\u001b[0m\u001b[0m\n\u001b[0m\u001b[1;32m     71\u001b[0m             \u001b[0;32mreturn\u001b[0m \u001b[0msock\u001b[0m\u001b[0;34m\u001b[0m\u001b[0;34m\u001b[0m\u001b[0m\n\u001b[1;32m     72\u001b[0m \u001b[0;34m\u001b[0m\u001b[0m\n",
            "\u001b[0;31mKeyboardInterrupt\u001b[0m: "
          ]
        }
      ]
    },
    {
      "cell_type": "code",
      "source": [
        "def get_archive_link(link):\n",
        "  url = f'http://web.archive.org/cdx/search/cdx?url={link}&from=20130101&to=20230215&output=json'\n",
        "  urls = rq.get(url).text\n",
        "  parse_url = json.loads(urls) #parses the JSON from urls.\n",
        "  # print(parse_url)\n",
        "  url_list = []\n",
        "  for i in range(1,len(parse_url)):\n",
        "    orig_url = parse_url[i][2]\n",
        "    tstamp = parse_url[i][1]\n",
        "    waylink = tstamp+'/'+orig_url\n",
        "    url_list.append(waylink)\n",
        "  # print(url_list)\n",
        "\n",
        "  ## Compiles final url pattern.\n",
        "  final_list = []\n",
        "  for url in url_list:\n",
        "    final_url = 'https://web.archive.org/web/'+url\n",
        "    final_list.append(final_url)\n",
        "    # print(final_list)\n",
        "\n",
        "  return final_list"
      ],
      "metadata": {
        "id": "K1CK7NbvIlzP"
      },
      "execution_count": null,
      "outputs": []
    },
    {
      "cell_type": "code",
      "source": [
        "# extract company\n",
        "def extract_company(div): \n",
        "    company = div.find_all(name=\"span\", attrs={\"class\":\"company\"})\n",
        "    if len(company) > 0:\n",
        "      for b in company:\n",
        "        return (b.text.strip())\n",
        "    else:\n",
        "      sec_try = div.find_all(name=\"span\", attrs={\"class\":\"result-link-source\"})\n",
        "      for span in sec_try:\n",
        "          return (span.text.strip())\n",
        "    return 'NOT_FOUND'\n",
        "\n",
        "\n",
        "# extract job salary\n",
        "def extract_salary(div): \n",
        "    salaries = []\n",
        "    try:\n",
        "      return (div.find('nobr').text)\n",
        "    except:\n",
        "      try:\n",
        "        div_two = div.find(name='div', attrs={'class':'salary no-wrap'})\n",
        "        div_three = div_two.find('div')\n",
        "        salaries.append(div_three.text.strip())\n",
        "        return salaries\n",
        "      except:\n",
        "        try:\n",
        "          div_two = div.find(name='div', attrs={'class':'sjcl'})\n",
        "          div_three = div_two.find('div')\n",
        "          salaries.append(div_three.text.strip())\n",
        "          return salaries\n",
        "        except:\n",
        "          return ('NOT_FOUND')\n",
        "    return 'NOT_FOUND'\n",
        "\n",
        "\n",
        "# extract job location\n",
        "def extract_location(div):\n",
        "  for span in div.findAll('span', attrs={'class': 'location'}):\n",
        "    return (span.text)\n",
        "  return 'NOT_FOUND'\n",
        "\n",
        "\n",
        "# extract job title\n",
        "def extract_job_title(div):\n",
        "  for a in div.find_all(name='a', attrs={'data-tn-element':'jobTitle'}):\n",
        "    return (a['title'])\n",
        "  return('NOT_FOUND')\n",
        "\n",
        "\n",
        "# extract jd summary\n",
        "def extract_summary(div): \n",
        "  spans = div.findAll('span', attrs={'class': 'summary'})\n",
        "  for span in spans:\n",
        "    return (span.text.strip())\n",
        "  return 'NOT_FOUND'\n",
        " \n",
        "\n",
        "# extract link of job description \n",
        "def extract_link(div): \n",
        "  for a in div.find_all(name='a', attrs={'data-tn-element':'jobTitle'}):\n",
        "    return (a['href'])\n",
        "  return('NOT_FOUND')\n",
        "\n",
        "\n",
        "# extract date of job when it was posted\n",
        "def extract_date(div):\n",
        "  try:\n",
        "    spans = div.findAll('span', attrs={'class': 'date'})\n",
        "    for span in spans:\n",
        "      return (span.text.strip())\n",
        "  except:\n",
        "    return 'NOT_FOUND'\n",
        "  return 'NOT_FOUND'\n",
        "\n",
        "\n",
        "# extract full job description from link\n",
        "def extract_fulltext(url):\n",
        "  try:\n",
        "    page = rq.get('http://www.indeed.com' + url)\n",
        "    soup = bs(page.text, \"lxml\", from_encoding=\"utf-8\")\n",
        "    spans = soup.findAll('span', attrs={'class': 'summary'})\n",
        "    for span in spans:\n",
        "      return (span.text.strip())\n",
        "  except:\n",
        "    return 'NOT_FOUND'\n",
        "  return 'NOT_FOUND'"
      ],
      "metadata": {
        "id": "n948QWKSbq9w"
      },
      "execution_count": null,
      "outputs": []
    },
    {
      "cell_type": "code",
      "source": [
        "# define dataframe columns\n",
        "df = pd.DataFrame(columns = ['unique_id', 'job_qry','job_title', \n",
        "                             'company_name', 'location', 'summary', \n",
        "                             'salary', 'link', 'date', 'full_text'])"
      ],
      "metadata": {
        "id": "obLrlzPPbrE_"
      },
      "execution_count": null,
      "outputs": []
    },
    {
      "cell_type": "code",
      "source": [
        "for role in roles:\n",
        "  role_ = role.lower().replace(' ', '+')\n",
        "  link = f'www.indeed.com/jobs?q={role_}&amp;explvl=entry_level'\n",
        "  archive_url_list = get_archive_link(link)\n",
        "  for url in archive_url_list:\n",
        "    for i in range(3): #retry 3 times if connection error\n",
        "      while True:\n",
        "        try:\n",
        "          pg = rq.get(url).text\n",
        "          sleep(3) #ensuring 5 seconds sleep after every grab\n",
        "        except ConnectionError:\n",
        "          sleep(3)\n",
        "          continue\n",
        "        break\n",
        "\n",
        "    soup = bs(pg,'html.parser')\n",
        "    divs = soup.find_all(name=\"div\", attrs={\"class\":\"row\"})\n",
        "\n",
        "    cnt = 0\n",
        "    for div in divs:\n",
        "      #specifying row num for index of job posting in dataframe\n",
        "      num = (len(df) + 1) \n",
        "      cnt = cnt + 1\n",
        "     \n",
        "      #job data after parsing\n",
        "      job_post = [] \n",
        "\n",
        "      #append unique id\n",
        "      job_post.append(div['id'])\n",
        "\n",
        "      #append job qry\n",
        "      job_post.append(role)\n",
        "\n",
        "      #grabbing job title\n",
        "      job_post.append(extract_job_title(div))\n",
        "\n",
        "      #grabbing company\n",
        "      job_post.append(extract_company(div))\n",
        "\n",
        "      #grabbing location name\n",
        "      job_post.append(extract_location(div))\n",
        "\n",
        "      #grabbing summary text\n",
        "      job_post.append(extract_summary(div))\n",
        "\n",
        "      #grabbing salary\n",
        "      job_post.append(extract_salary(div))\n",
        "\n",
        "      #grabbing link\n",
        "      link = extract_link(div)\n",
        "      job_post.append(link)\n",
        "\n",
        "      #grabbing date\n",
        "      job_post.append(extract_date(div))\n",
        "\n",
        "      #grabbing full_text\n",
        "      job_post.append(extract_fulltext(link))\n",
        "\n",
        "      #appending list of job post info to dataframe at index num\n",
        "      df.loc[num] = job_post\n",
        "  roles.remove(role)\n",
        "  print(roles)\n",
        "\n",
        "  sleep(5)\n",
        "\n",
        "df.to_csv('job_data_indeed.csv', index=False)"
      ],
      "metadata": {
        "id": "n9UMfooJZzOe"
      },
      "execution_count": null,
      "outputs": []
    },
    {
      "cell_type": "code",
      "source": [
        "xx = 'Data Analyst'\n",
        "xx.lower() in ('|'.join(x for x in roles))"
      ],
      "metadata": {
        "id": "QpaKQJyjwOub",
        "outputId": "2e780b74-8221-49af-a1d7-13f6821ba500",
        "colab": {
          "base_uri": "https://localhost:8080/"
        }
      },
      "execution_count": 3,
      "outputs": [
        {
          "output_type": "execute_result",
          "data": {
            "text/plain": [
              "False"
            ]
          },
          "metadata": {},
          "execution_count": 3
        }
      ]
    },
    {
      "cell_type": "code",
      "source": [
        "# filter by role extract all the jobs from the archive links directly\n",
        "link = f'www.indeed.com/jobs?'\n",
        "archive_url_list = get_archive_link(link)\n",
        "for url in archive_url_list:\n",
        "  for i in range(3): #retry 3 times if connection error\n",
        "    while True:\n",
        "      try:\n",
        "        pg = rq.get(url).text\n",
        "        sleep(3) #ensuring 5 seconds sleep after every grab\n",
        "      except ConnectionError:\n",
        "        sleep(3)\n",
        "        continue\n",
        "      break\n",
        "\n",
        "  soup = bs(pg,'html.parser')\n",
        "  divs = soup.find_all(name=\"div\", attrs={\"class\":\"row\"})\n",
        "\n",
        "  cnt = 0\n",
        "  for div in divs:\n",
        "    #specifying row num for index of job posting in dataframe\n",
        "    num = (len(df) + 1) \n",
        "    cnt = cnt + 1\n",
        "    \n",
        "    #job data after parsing\n",
        "    job_post = [] \n",
        "\n",
        "    #append unique id\n",
        "    job_post.append(div['id'])\n",
        "\n",
        "    #append job qry\n",
        "    job_post.append(role)\n",
        "\n",
        "    #grabbing job title\n",
        "    job_post.append(extract_job_title(div))\n",
        "\n",
        "    #grabbing company\n",
        "    job_post.append(extract_company(div))\n",
        "\n",
        "    #grabbing location name\n",
        "    job_post.append(extract_location(div))\n",
        "\n",
        "    #grabbing summary text\n",
        "    job_post.append(extract_summary(div))\n",
        "\n",
        "    #grabbing salary\n",
        "    job_post.append(extract_salary(div))\n",
        "\n",
        "    #grabbing link\n",
        "    link = extract_link(div)\n",
        "    job_post.append(link)\n",
        "\n",
        "    #grabbing date\n",
        "    job_post.append(extract_date(div))\n",
        "\n",
        "    #grabbing full_text\n",
        "    job_post.append(extract_fulltext(link))\n",
        "\n",
        "    #appending list of job post info to dataframe at index num\n",
        "    df.loc[num] = job_post\n",
        "\n"
      ],
      "metadata": {
        "id": "9FwtCxsdvku8"
      },
      "execution_count": null,
      "outputs": []
    },
    {
      "cell_type": "code",
      "source": [
        "df.to_csv('job_data_indeed.csv', index=False)"
      ],
      "metadata": {
        "id": "Nxr7HsbAIcoI"
      },
      "execution_count": null,
      "outputs": []
    },
    {
      "cell_type": "code",
      "source": [
        "## Do this if your data has a lot of non tech jobs \n",
        "## please update the list of roles with relevant roles in your data \n",
        "## you can also inverse it by creating a list of non-tech roles if the \n",
        "## amount of non-tech roles are smaller than tech roles"
      ],
      "metadata": {
        "id": "tIzFB1qwGooB"
      },
      "execution_count": null,
      "outputs": []
    },
    {
      "cell_type": "code",
      "source": [
        "#df = pd.read_csv('./drive/MyDrive/Job-trend-analysis-/job_data_indeed.csv')"
      ],
      "metadata": {
        "id": "WdvK57if0PzQ"
      },
      "execution_count": 56,
      "outputs": []
    },
    {
      "cell_type": "code",
      "source": [
        "df"
      ],
      "metadata": {
        "colab": {
          "base_uri": "https://localhost:8080/",
          "height": 1000
        },
        "id": "4pkEFIyy0igo",
        "outputId": "077420dd-285c-46bb-cb42-58c00a27bad0"
      },
      "execution_count": 57,
      "outputs": [
        {
          "output_type": "execute_result",
          "data": {
            "text/plain": [
              "                unique_id               job_qry  \\\n",
              "0     pj_b9c0fe264fb6191d  Social media manager   \n",
              "1     pj_1b5c54a6b7341e61  Social media manager   \n",
              "2     pj_557f226535d37d66  Social media manager   \n",
              "3     pj_88f7ec126a72b559  Social media manager   \n",
              "4     pj_c9872f45c191dcea  Social media manager   \n",
              "...                   ...                   ...   \n",
              "1224   p_f574e968bf0ef913   Security specialist   \n",
              "1225   p_a0f8d025f0085b6a   Security specialist   \n",
              "1226   p_32e6d41f53d528ec   Security specialist   \n",
              "1227  pj_8b3ccda4b1691a7d   Security specialist   \n",
              "1228  pj_c5561bf7dfc36080   Security specialist   \n",
              "\n",
              "                                              job_title  \\\n",
              "0                                  Social Media Manager   \n",
              "1                        Social Media Community Manager   \n",
              "2                           Social Media Manager - (FT)   \n",
              "3                             Social Engagement Manager   \n",
              "4                                  Social Media Manager   \n",
              "...                                                 ...   \n",
              "1224                     Security/Protection Specialist   \n",
              "1225                              Security Specialist 1   \n",
              "1226  Personnel Security/Industrial Security Specialist   \n",
              "1227                                Security Specialist   \n",
              "1228                                Security Specialist   \n",
              "\n",
              "                                           company_name         location  \\\n",
              "0                                            360SWEATER        NOT_FOUND   \n",
              "1                                       A Shoc Beverage        NOT_FOUND   \n",
              "2                    Advanced Plastic Surgery Solutions        NOT_FOUND   \n",
              "3     Margaritaville Resort and Spa and Margaritavil...        NOT_FOUND   \n",
              "4                                             AMResorts        NOT_FOUND   \n",
              "...                                                 ...              ...   \n",
              "1224                                   Yes Sir Security  Los Angeles, CA   \n",
              "1225                     Los Alamos National Laboratory   Los Alamos, NM   \n",
              "1226                    Advanced Integration Technology        Plano, TX   \n",
              "1227                Security Industry Specialists, Inc.    Cupertino, CA   \n",
              "1228                                        Vail Health         Vail, CO   \n",
              "\n",
              "                                                summary  \\\n",
              "0                                             NOT_FOUND   \n",
              "1                                             NOT_FOUND   \n",
              "2                                             NOT_FOUND   \n",
              "3                                             NOT_FOUND   \n",
              "4                                             NOT_FOUND   \n",
              "...                                                 ...   \n",
              "1224  Security guard, security officer, security age...   \n",
              "1225  Personnel Security ensures that granting a wor...   \n",
              "1226  Previous experience as a personnel security sp...   \n",
              "1227  The Security Specialist reports to the Securit...   \n",
              "1228  Maintain the physical security of VVMC through...   \n",
              "\n",
              "                                                 salary  \\\n",
              "0                                        ['360SWEATER']   \n",
              "1                                   ['A Shoc Beverage']   \n",
              "2                ['Advanced Plastic Surgery Solutions']   \n",
              "3     ['Margaritaville Resort and Spa and Margaritav...   \n",
              "4                         ['AMResorts\\n\\n\\n26 reviews']   \n",
              "...                                                 ...   \n",
              "1224                                          NOT_FOUND   \n",
              "1225                                          NOT_FOUND   \n",
              "1226                                          NOT_FOUND   \n",
              "1227                                    ['$18 an hour']   \n",
              "1228                                          NOT_FOUND   \n",
              "\n",
              "                                                   link          date  \\\n",
              "0     /web/20190708121400/https://www.indeed.com/pag...     NOT_FOUND   \n",
              "1     /web/20190708121400/https://www.indeed.com/pag...     NOT_FOUND   \n",
              "2     /web/20190708121400/https://www.indeed.com/pag...     NOT_FOUND   \n",
              "3     /web/20190708121400/https://www.indeed.com/pag...     NOT_FOUND   \n",
              "4     /web/20190708121400/https://www.indeed.com/pag...     NOT_FOUND   \n",
              "...                                                 ...           ...   \n",
              "1224  /web/20180201191539/https://www.indeed.com/com...   17 days ago   \n",
              "1225  /web/20180201191539/https://www.indeed.com/rc/...    6 days ago   \n",
              "1226  /web/20180201191539/https://www.indeed.com/rc/...   16 days ago   \n",
              "1227  /web/20180201191539/https://www.indeed.com/pag...  20 hours ago   \n",
              "1228  /web/20180201191539/https://www.indeed.com/pag...     NOT_FOUND   \n",
              "\n",
              "      full_text  \n",
              "0     NOT_FOUND  \n",
              "1     NOT_FOUND  \n",
              "2     NOT_FOUND  \n",
              "3     NOT_FOUND  \n",
              "4     NOT_FOUND  \n",
              "...         ...  \n",
              "1224  NOT_FOUND  \n",
              "1225  NOT_FOUND  \n",
              "1226  NOT_FOUND  \n",
              "1227  NOT_FOUND  \n",
              "1228  NOT_FOUND  \n",
              "\n",
              "[1229 rows x 10 columns]"
            ],
            "text/html": [
              "\n",
              "  <div id=\"df-ced81a51-9a4e-404b-881b-0b895a115654\">\n",
              "    <div class=\"colab-df-container\">\n",
              "      <div>\n",
              "<style scoped>\n",
              "    .dataframe tbody tr th:only-of-type {\n",
              "        vertical-align: middle;\n",
              "    }\n",
              "\n",
              "    .dataframe tbody tr th {\n",
              "        vertical-align: top;\n",
              "    }\n",
              "\n",
              "    .dataframe thead th {\n",
              "        text-align: right;\n",
              "    }\n",
              "</style>\n",
              "<table border=\"1\" class=\"dataframe\">\n",
              "  <thead>\n",
              "    <tr style=\"text-align: right;\">\n",
              "      <th></th>\n",
              "      <th>unique_id</th>\n",
              "      <th>job_qry</th>\n",
              "      <th>job_title</th>\n",
              "      <th>company_name</th>\n",
              "      <th>location</th>\n",
              "      <th>summary</th>\n",
              "      <th>salary</th>\n",
              "      <th>link</th>\n",
              "      <th>date</th>\n",
              "      <th>full_text</th>\n",
              "    </tr>\n",
              "  </thead>\n",
              "  <tbody>\n",
              "    <tr>\n",
              "      <th>0</th>\n",
              "      <td>pj_b9c0fe264fb6191d</td>\n",
              "      <td>Social media manager</td>\n",
              "      <td>Social Media Manager</td>\n",
              "      <td>360SWEATER</td>\n",
              "      <td>NOT_FOUND</td>\n",
              "      <td>NOT_FOUND</td>\n",
              "      <td>['360SWEATER']</td>\n",
              "      <td>/web/20190708121400/https://www.indeed.com/pag...</td>\n",
              "      <td>NOT_FOUND</td>\n",
              "      <td>NOT_FOUND</td>\n",
              "    </tr>\n",
              "    <tr>\n",
              "      <th>1</th>\n",
              "      <td>pj_1b5c54a6b7341e61</td>\n",
              "      <td>Social media manager</td>\n",
              "      <td>Social Media Community Manager</td>\n",
              "      <td>A Shoc Beverage</td>\n",
              "      <td>NOT_FOUND</td>\n",
              "      <td>NOT_FOUND</td>\n",
              "      <td>['A Shoc Beverage']</td>\n",
              "      <td>/web/20190708121400/https://www.indeed.com/pag...</td>\n",
              "      <td>NOT_FOUND</td>\n",
              "      <td>NOT_FOUND</td>\n",
              "    </tr>\n",
              "    <tr>\n",
              "      <th>2</th>\n",
              "      <td>pj_557f226535d37d66</td>\n",
              "      <td>Social media manager</td>\n",
              "      <td>Social Media Manager - (FT)</td>\n",
              "      <td>Advanced Plastic Surgery Solutions</td>\n",
              "      <td>NOT_FOUND</td>\n",
              "      <td>NOT_FOUND</td>\n",
              "      <td>['Advanced Plastic Surgery Solutions']</td>\n",
              "      <td>/web/20190708121400/https://www.indeed.com/pag...</td>\n",
              "      <td>NOT_FOUND</td>\n",
              "      <td>NOT_FOUND</td>\n",
              "    </tr>\n",
              "    <tr>\n",
              "      <th>3</th>\n",
              "      <td>pj_88f7ec126a72b559</td>\n",
              "      <td>Social media manager</td>\n",
              "      <td>Social Engagement Manager</td>\n",
              "      <td>Margaritaville Resort and Spa and Margaritavil...</td>\n",
              "      <td>NOT_FOUND</td>\n",
              "      <td>NOT_FOUND</td>\n",
              "      <td>['Margaritaville Resort and Spa and Margaritav...</td>\n",
              "      <td>/web/20190708121400/https://www.indeed.com/pag...</td>\n",
              "      <td>NOT_FOUND</td>\n",
              "      <td>NOT_FOUND</td>\n",
              "    </tr>\n",
              "    <tr>\n",
              "      <th>4</th>\n",
              "      <td>pj_c9872f45c191dcea</td>\n",
              "      <td>Social media manager</td>\n",
              "      <td>Social Media Manager</td>\n",
              "      <td>AMResorts</td>\n",
              "      <td>NOT_FOUND</td>\n",
              "      <td>NOT_FOUND</td>\n",
              "      <td>['AMResorts\\n\\n\\n26 reviews']</td>\n",
              "      <td>/web/20190708121400/https://www.indeed.com/pag...</td>\n",
              "      <td>NOT_FOUND</td>\n",
              "      <td>NOT_FOUND</td>\n",
              "    </tr>\n",
              "    <tr>\n",
              "      <th>...</th>\n",
              "      <td>...</td>\n",
              "      <td>...</td>\n",
              "      <td>...</td>\n",
              "      <td>...</td>\n",
              "      <td>...</td>\n",
              "      <td>...</td>\n",
              "      <td>...</td>\n",
              "      <td>...</td>\n",
              "      <td>...</td>\n",
              "      <td>...</td>\n",
              "    </tr>\n",
              "    <tr>\n",
              "      <th>1224</th>\n",
              "      <td>p_f574e968bf0ef913</td>\n",
              "      <td>Security specialist</td>\n",
              "      <td>Security/Protection Specialist</td>\n",
              "      <td>Yes Sir Security</td>\n",
              "      <td>Los Angeles, CA</td>\n",
              "      <td>Security guard, security officer, security age...</td>\n",
              "      <td>NOT_FOUND</td>\n",
              "      <td>/web/20180201191539/https://www.indeed.com/com...</td>\n",
              "      <td>17 days ago</td>\n",
              "      <td>NOT_FOUND</td>\n",
              "    </tr>\n",
              "    <tr>\n",
              "      <th>1225</th>\n",
              "      <td>p_a0f8d025f0085b6a</td>\n",
              "      <td>Security specialist</td>\n",
              "      <td>Security Specialist 1</td>\n",
              "      <td>Los Alamos National Laboratory</td>\n",
              "      <td>Los Alamos, NM</td>\n",
              "      <td>Personnel Security ensures that granting a wor...</td>\n",
              "      <td>NOT_FOUND</td>\n",
              "      <td>/web/20180201191539/https://www.indeed.com/rc/...</td>\n",
              "      <td>6 days ago</td>\n",
              "      <td>NOT_FOUND</td>\n",
              "    </tr>\n",
              "    <tr>\n",
              "      <th>1226</th>\n",
              "      <td>p_32e6d41f53d528ec</td>\n",
              "      <td>Security specialist</td>\n",
              "      <td>Personnel Security/Industrial Security Specialist</td>\n",
              "      <td>Advanced Integration Technology</td>\n",
              "      <td>Plano, TX</td>\n",
              "      <td>Previous experience as a personnel security sp...</td>\n",
              "      <td>NOT_FOUND</td>\n",
              "      <td>/web/20180201191539/https://www.indeed.com/rc/...</td>\n",
              "      <td>16 days ago</td>\n",
              "      <td>NOT_FOUND</td>\n",
              "    </tr>\n",
              "    <tr>\n",
              "      <th>1227</th>\n",
              "      <td>pj_8b3ccda4b1691a7d</td>\n",
              "      <td>Security specialist</td>\n",
              "      <td>Security Specialist</td>\n",
              "      <td>Security Industry Specialists, Inc.</td>\n",
              "      <td>Cupertino, CA</td>\n",
              "      <td>The Security Specialist reports to the Securit...</td>\n",
              "      <td>['$18 an hour']</td>\n",
              "      <td>/web/20180201191539/https://www.indeed.com/pag...</td>\n",
              "      <td>20 hours ago</td>\n",
              "      <td>NOT_FOUND</td>\n",
              "    </tr>\n",
              "    <tr>\n",
              "      <th>1228</th>\n",
              "      <td>pj_c5561bf7dfc36080</td>\n",
              "      <td>Security specialist</td>\n",
              "      <td>Security Specialist</td>\n",
              "      <td>Vail Health</td>\n",
              "      <td>Vail, CO</td>\n",
              "      <td>Maintain the physical security of VVMC through...</td>\n",
              "      <td>NOT_FOUND</td>\n",
              "      <td>/web/20180201191539/https://www.indeed.com/pag...</td>\n",
              "      <td>NOT_FOUND</td>\n",
              "      <td>NOT_FOUND</td>\n",
              "    </tr>\n",
              "  </tbody>\n",
              "</table>\n",
              "<p>1229 rows × 10 columns</p>\n",
              "</div>\n",
              "      <button class=\"colab-df-convert\" onclick=\"convertToInteractive('df-ced81a51-9a4e-404b-881b-0b895a115654')\"\n",
              "              title=\"Convert this dataframe to an interactive table.\"\n",
              "              style=\"display:none;\">\n",
              "        \n",
              "  <svg xmlns=\"http://www.w3.org/2000/svg\" height=\"24px\"viewBox=\"0 0 24 24\"\n",
              "       width=\"24px\">\n",
              "    <path d=\"M0 0h24v24H0V0z\" fill=\"none\"/>\n",
              "    <path d=\"M18.56 5.44l.94 2.06.94-2.06 2.06-.94-2.06-.94-.94-2.06-.94 2.06-2.06.94zm-11 1L8.5 8.5l.94-2.06 2.06-.94-2.06-.94L8.5 2.5l-.94 2.06-2.06.94zm10 10l.94 2.06.94-2.06 2.06-.94-2.06-.94-.94-2.06-.94 2.06-2.06.94z\"/><path d=\"M17.41 7.96l-1.37-1.37c-.4-.4-.92-.59-1.43-.59-.52 0-1.04.2-1.43.59L10.3 9.45l-7.72 7.72c-.78.78-.78 2.05 0 2.83L4 21.41c.39.39.9.59 1.41.59.51 0 1.02-.2 1.41-.59l7.78-7.78 2.81-2.81c.8-.78.8-2.07 0-2.86zM5.41 20L4 18.59l7.72-7.72 1.47 1.35L5.41 20z\"/>\n",
              "  </svg>\n",
              "      </button>\n",
              "      \n",
              "  <style>\n",
              "    .colab-df-container {\n",
              "      display:flex;\n",
              "      flex-wrap:wrap;\n",
              "      gap: 12px;\n",
              "    }\n",
              "\n",
              "    .colab-df-convert {\n",
              "      background-color: #E8F0FE;\n",
              "      border: none;\n",
              "      border-radius: 50%;\n",
              "      cursor: pointer;\n",
              "      display: none;\n",
              "      fill: #1967D2;\n",
              "      height: 32px;\n",
              "      padding: 0 0 0 0;\n",
              "      width: 32px;\n",
              "    }\n",
              "\n",
              "    .colab-df-convert:hover {\n",
              "      background-color: #E2EBFA;\n",
              "      box-shadow: 0px 1px 2px rgba(60, 64, 67, 0.3), 0px 1px 3px 1px rgba(60, 64, 67, 0.15);\n",
              "      fill: #174EA6;\n",
              "    }\n",
              "\n",
              "    [theme=dark] .colab-df-convert {\n",
              "      background-color: #3B4455;\n",
              "      fill: #D2E3FC;\n",
              "    }\n",
              "\n",
              "    [theme=dark] .colab-df-convert:hover {\n",
              "      background-color: #434B5C;\n",
              "      box-shadow: 0px 1px 3px 1px rgba(0, 0, 0, 0.15);\n",
              "      filter: drop-shadow(0px 1px 2px rgba(0, 0, 0, 0.3));\n",
              "      fill: #FFFFFF;\n",
              "    }\n",
              "  </style>\n",
              "\n",
              "      <script>\n",
              "        const buttonEl =\n",
              "          document.querySelector('#df-ced81a51-9a4e-404b-881b-0b895a115654 button.colab-df-convert');\n",
              "        buttonEl.style.display =\n",
              "          google.colab.kernel.accessAllowed ? 'block' : 'none';\n",
              "\n",
              "        async function convertToInteractive(key) {\n",
              "          const element = document.querySelector('#df-ced81a51-9a4e-404b-881b-0b895a115654');\n",
              "          const dataTable =\n",
              "            await google.colab.kernel.invokeFunction('convertToInteractive',\n",
              "                                                     [key], {});\n",
              "          if (!dataTable) return;\n",
              "\n",
              "          const docLinkHtml = 'Like what you see? Visit the ' +\n",
              "            '<a target=\"_blank\" href=https://colab.research.google.com/notebooks/data_table.ipynb>data table notebook</a>'\n",
              "            + ' to learn more about interactive tables.';\n",
              "          element.innerHTML = '';\n",
              "          dataTable['output_type'] = 'display_data';\n",
              "          await google.colab.output.renderOutput(dataTable, element);\n",
              "          const docLink = document.createElement('div');\n",
              "          docLink.innerHTML = docLinkHtml;\n",
              "          element.appendChild(docLink);\n",
              "        }\n",
              "      </script>\n",
              "    </div>\n",
              "  </div>\n",
              "  "
            ]
          },
          "metadata": {},
          "execution_count": 57
        }
      ]
    },
    {
      "cell_type": "code",
      "source": [
        "df = df.convert_dtypes(infer_objects=False)"
      ],
      "metadata": {
        "id": "s-GjsFk48AfA"
      },
      "execution_count": 59,
      "outputs": []
    },
    {
      "cell_type": "code",
      "source": [
        "df.info()"
      ],
      "metadata": {
        "colab": {
          "base_uri": "https://localhost:8080/"
        },
        "id": "X22Ve-bd6AJg",
        "outputId": "de6e44a9-0fc5-470a-ceca-e7be3a8bda80"
      },
      "execution_count": 60,
      "outputs": [
        {
          "output_type": "stream",
          "name": "stdout",
          "text": [
            "<class 'pandas.core.frame.DataFrame'>\n",
            "RangeIndex: 1229 entries, 0 to 1228\n",
            "Data columns (total 10 columns):\n",
            " #   Column        Non-Null Count  Dtype \n",
            "---  ------        --------------  ----- \n",
            " 0   unique_id     1229 non-null   string\n",
            " 1   job_qry       1229 non-null   string\n",
            " 2   job_title     1229 non-null   string\n",
            " 3   company_name  1229 non-null   string\n",
            " 4   location      1229 non-null   string\n",
            " 5   summary       1229 non-null   string\n",
            " 6   salary        1229 non-null   string\n",
            " 7   link          1229 non-null   string\n",
            " 8   date          1229 non-null   string\n",
            " 9   full_text     1229 non-null   string\n",
            "dtypes: string(10)\n",
            "memory usage: 96.1 KB\n"
          ]
        }
      ]
    },
    {
      "cell_type": "code",
      "source": [
        "df.job_title = df.job_title.apply(lambda row: row.lower())"
      ],
      "metadata": {
        "id": "gAFcMRhHFL2L"
      },
      "execution_count": 66,
      "outputs": []
    },
    {
      "cell_type": "code",
      "source": [
        "df2 = df[(df.job_title.str.contains('|'.join(x.lower() for x in roles)))]"
      ],
      "metadata": {
        "colab": {
          "base_uri": "https://localhost:8080/"
        },
        "id": "DWNwd8mQzh-Q",
        "outputId": "7a344d99-2c3f-4e0c-a653-3fcb84a9a5f1"
      },
      "execution_count": 68,
      "outputs": [
        {
          "output_type": "stream",
          "name": "stderr",
          "text": [
            "<ipython-input-68-d7c5bd35f670>:1: UserWarning: This pattern has match groups. To actually get the groups, use str.extract.\n",
            "  df2 = df[(df.job_title.str.contains('|'.join(x.lower() for x in roles)))]\n"
          ]
        }
      ]
    },
    {
      "cell_type": "code",
      "source": [
        "## to inverse this with a list of non-tech roles do this instead\n",
        "## where non_tech_roles is the created list of non tech jobs in your data that you wish to remove\n",
        "# df2 = df[~(df.job_title.str.contains('|'.join(x.lower() for x in non_tech_roles)))]"
      ],
      "metadata": {
        "id": "p1L0hBxuHwxz"
      },
      "execution_count": null,
      "outputs": []
    },
    {
      "cell_type": "code",
      "source": [
        "df2.to_csv('job_data_indeed.csv', index=False)"
      ],
      "metadata": {
        "id": "rz7gE1TDzfDp"
      },
      "execution_count": null,
      "outputs": []
    },
    {
      "cell_type": "code",
      "source": [
        "# todo \n",
        "# check availability of all the websites and their links \n",
        "# get salary estimates for the years "
      ],
      "metadata": {
        "id": "6cV2bP2jH3G_"
      },
      "execution_count": null,
      "outputs": []
    },
    {
      "cell_type": "code",
      "source": [],
      "metadata": {
        "id": "n6bG-n_O47sJ"
      },
      "execution_count": null,
      "outputs": []
    }
  ]
}